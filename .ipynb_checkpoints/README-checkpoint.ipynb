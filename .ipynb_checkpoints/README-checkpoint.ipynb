{
 "cells": [
  {
   "cell_type": "markdown",
   "metadata": {},
   "source": [
    "# Analyze A/B Test Results"
   ]
  },
  {
   "cell_type": "markdown",
   "metadata": {},
   "source": [
    "## Project Overview"
   ]
  },
  {
   "cell_type": "markdown",
   "metadata": {},
   "source": [
    "This project analyzes simulated A/B test results by Udacity. This data is from an A/B test run by an e-commerce website,which developed a new web page to increse the number of users who \"convert\". \"Conversions\" refer to the users deciding to pay for the companies product. Analysis of the results will be used to determine the impact of the new page on the number of conversions and whether this new web page should be implemented or not. Statistical methods will be key in analyzing the results of the experiment."
   ]
  },
  {
   "cell_type": "markdown",
   "metadata": {},
   "source": [
    "## Required Libraries"
   ]
  },
  {
   "cell_type": "markdown",
   "metadata": {},
   "source": [
    "- Pandas\n",
    "\n",
    "\n",
    "- NumPy\n",
    "\n",
    "\n",
    "- Random\n",
    "\n",
    "\n",
    "- Matplotlib\n",
    "\n",
    "\n",
    "- Statsmodels"
   ]
  },
  {
   "cell_type": "markdown",
   "metadata": {},
   "source": [
    "## What I learned"
   ]
  },
  {
   "cell_type": "markdown",
   "metadata": {},
   "source": [
    "This project has granted be experience with using sample distributions to observe the null and alternate hypotheses that I posed for the A/B test. I was able to understand the results pertaining to the sample distribution under the null hypothesis and how the corresponding p value provided valuable insights of the test results. I also used logistic regression on the data to observe how different exploratory variables affected the number of conversions including the the page users landed on and what country they were in. Logistic regression allowed me to determine if interaction between certain exploratory variables affected the number of conversions as well."
   ]
  },
  {
   "cell_type": "code",
   "execution_count": null,
   "metadata": {
    "collapsed": true
   },
   "outputs": [],
   "source": []
  }
 ],
 "metadata": {
  "kernelspec": {
   "display_name": "Python 3",
   "language": "python",
   "name": "python3"
  },
  "language_info": {
   "codemirror_mode": {
    "name": "ipython",
    "version": 3
   },
   "file_extension": ".py",
   "mimetype": "text/x-python",
   "name": "python",
   "nbconvert_exporter": "python",
   "pygments_lexer": "ipython3",
   "version": "3.6.10"
  }
 },
 "nbformat": 4,
 "nbformat_minor": 2
}
